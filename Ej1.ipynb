{
  "nbformat": 4,
  "nbformat_minor": 0,
  "metadata": {
    "colab": {
      "provenance": [],
      "gpuType": "T4",
      "authorship_tag": "ABX9TyP43DM3aZMJgHfkHu1fXBOK",
      "include_colab_link": true
    },
    "kernelspec": {
      "name": "python3",
      "display_name": "Python 3"
    },
    "language_info": {
      "name": "python"
    },
    "accelerator": "GPU"
  },
  "cells": [
    {
      "cell_type": "markdown",
      "metadata": {
        "id": "view-in-github",
        "colab_type": "text"
      },
      "source": [
        "<a href=\"https://colab.research.google.com/github/vpcano/CAP_P2/blob/main/Ej1.ipynb\" target=\"_parent\"><img src=\"https://colab.research.google.com/assets/colab-badge.svg\" alt=\"Open In Colab\"/></a>"
      ]
    },
    {
      "cell_type": "code",
      "execution_count": 36,
      "metadata": {
        "id": "vm8cSyxYmwyw"
      },
      "outputs": [],
      "source": [
        "!mkdir -p cuda\n",
        "!rm -rf cuda/*"
      ]
    },
    {
      "cell_type": "code",
      "source": [
        "%%writefile cuda/stencil_1d_cpu.cu\n",
        "    #include <iostream>\n",
        "    #include <algorithm>\n",
        "    using namespace std;\n",
        "\n",
        "    #define RADIUS 3\n",
        "\n",
        "    void stencil_1D(int *in, int *out, int N) {\n",
        "        for (int i=0; i<N; i++) {\n",
        "            out[i] = 0;\n",
        "            for (int offset=-RADIUS; offset<=RADIUS; offset++) {\n",
        "                out[i] += in[i+offset];\n",
        "            }\n",
        "        }\n",
        "    }\n",
        "\n",
        "\n",
        "    void fill_ints(int *x, int n) {\n",
        "        fill_n(x, n, 1);\n",
        "    }\n",
        "\n",
        "    int main(int argc, char *argv[]) {\n",
        "        int *in, *out;\n",
        "        int N, size;\n",
        "\n",
        "        if (argc < 2) {\n",
        "            printf(\"Error: you must indicate the length of the array\\n\");\n",
        "            return 1;\n",
        "        }\n",
        "\n",
        "        N = atoi(argv[1]);\n",
        "        size = (N + 2*RADIUS) * sizeof(int);\n",
        "\n",
        "        in = (int*) malloc(size);\n",
        "        out = (int*) malloc(size);\n",
        "        fill_ints(in, N + 2*RADIUS);\n",
        "        fill_ints(out, N + 2*RADIUS);\n",
        "\n",
        "        stencil_1D(in + RADIUS, out + RADIUS, N);\n",
        "\n",
        "        printf(\"Output: \\n\");\n",
        "        for (int i=0; i<N+2*RADIUS; i++) {\n",
        "            printf(\"%d \", out[i]);\n",
        "        }\n",
        "        printf(\"\\n\");\n",
        "\n",
        "        free(in);\n",
        "        free(out);\n",
        "        return 0;\n",
        "    }"
      ],
      "metadata": {
        "id": "7GkJUe9Qn2pi",
        "colab": {
          "base_uri": "https://localhost:8080/"
        },
        "outputId": "9fcde970-5aee-4321-eef3-02b46430a5a6"
      },
      "execution_count": 37,
      "outputs": [
        {
          "output_type": "stream",
          "name": "stdout",
          "text": [
            "Writing cuda/stencil_1d_cpu.cu\n"
          ]
        }
      ]
    },
    {
      "cell_type": "code",
      "source": [
        "!nvcc cuda/stencil_1d_cpu.cu -o cuda/stencil_1d_cpu\n",
        "!./cuda/stencil_1d_cpu 32\n"
      ],
      "metadata": {
        "colab": {
          "base_uri": "https://localhost:8080/"
        },
        "id": "ICH925cU9reI",
        "outputId": "4a309d4f-ad71-40e4-932a-afc47eca4cf1"
      },
      "execution_count": 38,
      "outputs": [
        {
          "output_type": "stream",
          "name": "stdout",
          "text": [
            "Output: \n",
            "1 1 1 7 7 7 7 7 7 7 7 7 7 7 7 7 7 7 7 7 7 7 7 7 7 7 7 7 7 7 7 7 7 7 7 1 1 1 \n"
          ]
        }
      ]
    },
    {
      "cell_type": "code",
      "source": [
        "%%writefile cuda/stencil_1d_gpu.cu\n",
        "    #include <iostream>\n",
        "    #include <algorithm>\n",
        "    #include \"cuda.h\"\n",
        "    #include \"cuda_runtime.h\"\n",
        "    using namespace std;\n",
        "\n",
        "    #define RADIUS 3\n",
        "    #define BLOCK_SIZE 16\n",
        "\n",
        "    __global__ void stencil_1D(int *in, int *out, int N) {\n",
        "        __shared__ int temp[BLOCK_SIZE + 2*RADIUS];\n",
        "        int gindex = threadIdx.x + blockIdx.x*blockDim.x;\n",
        "        int lindex = threadIdx.x + RADIUS;\n",
        "\n",
        "        temp[lindex] = in[gindex];\n",
        "        if (threadIdx.x < RADIUS) {\n",
        "            temp[lindex - RADIUS] = in[gindex - RADIUS];\n",
        "            temp[lindex + BLOCK_SIZE] = in[gindex + BLOCK_SIZE];\n",
        "        }\n",
        "\n",
        "        __syncthreads();\n",
        "\n",
        "        int result = 0;\n",
        "        for (int offset=-RADIUS; offset<=RADIUS; offset++) {\n",
        "            result += temp[lindex + offset];\n",
        "        }\n",
        "\n",
        "        out[gindex] = result;\n",
        "    }\n",
        "\n",
        "\n",
        "    void fill_ints(int *x, int n) {\n",
        "        fill_n(x, n, 1);\n",
        "    }\n",
        "\n",
        "    int main(int argc, char *argv[]) {\n",
        "        int *h_in, *h_out;\n",
        "        int *d_in, *d_out;\n",
        "        int N, size;\n",
        "\n",
        "        if (argc < 2) {\n",
        "            printf(\"Error: you must indicate the length of the array\\n\");\n",
        "            return 1;\n",
        "        }\n",
        "\n",
        "        N = atoi(argv[1]);\n",
        "        size = (N + 2*RADIUS) * sizeof(int);\n",
        "\n",
        "        h_in = (int*) malloc(size);\n",
        "        h_out = (int*) malloc(size);\n",
        "        fill_ints(h_in, N + 2*RADIUS);\n",
        "        fill_ints(h_out, N + 2*RADIUS);\n",
        "\n",
        "        cudaMalloc((void**) &d_in, size);\n",
        "        cudaMalloc((void**) &d_out, size);\n",
        "        cudaMemcpy(d_in, h_in, size, cudaMemcpyHostToDevice);\n",
        "        cudaMemcpy(d_out, h_out, size, cudaMemcpyHostToDevice);\n",
        "\n",
        "        stencil_1D<<<N/BLOCK_SIZE,BLOCK_SIZE>>>(d_in + RADIUS, d_out + RADIUS, N);\n",
        "\n",
        "        cudaMemcpy(h_out, d_out, size, cudaMemcpyDeviceToHost);\n",
        "\n",
        "        printf(\"Output: \\n\");\n",
        "        for (int i=0; i<N+2*RADIUS; i++) {\n",
        "            printf(\"%d \", h_out[i]);\n",
        "        }\n",
        "        printf(\"\\n\");\n",
        "\n",
        "        free(h_in);\n",
        "        free(h_out);\n",
        "        cudaFree(d_in);\n",
        "        cudaFree(d_out);\n",
        "        return 0;\n",
        "    }"
      ],
      "metadata": {
        "outputId": "11251e56-76f0-4257-8143-f94eaa23118d",
        "colab": {
          "base_uri": "https://localhost:8080/"
        },
        "id": "ZzJWAFa21XbS"
      },
      "execution_count": 39,
      "outputs": [
        {
          "output_type": "stream",
          "name": "stdout",
          "text": [
            "Writing cuda/stencil_1d_gpu.cu\n"
          ]
        }
      ]
    },
    {
      "cell_type": "code",
      "source": [
        "!nvcc cuda/stencil_1d_gpu.cu -o cuda/stencil_1d_gpu\n",
        "!./cuda/stencil_1d_gpu 128\n"
      ],
      "metadata": {
        "colab": {
          "base_uri": "https://localhost:8080/"
        },
        "id": "FbSjlNiExENB",
        "outputId": "b665a15d-984a-49b4-d351-2b566168969b"
      },
      "execution_count": 40,
      "outputs": [
        {
          "output_type": "stream",
          "name": "stdout",
          "text": [
            "Output: \n",
            "1 1 1 7 7 7 7 7 7 7 7 7 7 7 7 7 7 7 7 7 7 7 7 7 7 7 7 7 7 7 7 7 7 7 7 7 7 7 7 7 7 7 7 7 7 7 7 7 7 7 7 7 7 7 7 7 7 7 7 7 7 7 7 7 7 7 7 7 7 7 7 7 7 7 7 7 7 7 7 7 7 7 7 7 7 7 7 7 7 7 7 7 7 7 7 7 7 7 7 7 7 7 7 7 7 7 7 7 7 7 7 7 7 7 7 7 7 7 7 7 7 7 7 7 7 7 7 7 7 7 7 1 1 1 \n"
          ]
        }
      ]
    },
    {
      "cell_type": "code",
      "source": [],
      "metadata": {
        "id": "ntQudI-_948e"
      },
      "execution_count": null,
      "outputs": []
    }
  ]
}