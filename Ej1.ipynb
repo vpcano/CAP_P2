{
  "nbformat": 4,
  "nbformat_minor": 0,
  "metadata": {
    "colab": {
      "provenance": [],
      "authorship_tag": "ABX9TyPlf5NhIMvvY+zfJCgR/KO6",
      "include_colab_link": true
    },
    "kernelspec": {
      "name": "python3",
      "display_name": "Python 3"
    },
    "language_info": {
      "name": "python"
    }
  },
  "cells": [
    {
      "cell_type": "markdown",
      "metadata": {
        "id": "view-in-github",
        "colab_type": "text"
      },
      "source": [
        "<a href=\"https://colab.research.google.com/github/vpcano/CAP_P2/blob/main/Ej1.ipynb\" target=\"_parent\"><img src=\"https://colab.research.google.com/assets/colab-badge.svg\" alt=\"Open In Colab\"/></a>"
      ]
    },
    {
      "cell_type": "code",
      "execution_count": 1,
      "metadata": {
        "id": "vm8cSyxYmwyw"
      },
      "outputs": [],
      "source": [
        "!mkdir -p cuda\n",
        "!rm -rf cuda/*"
      ]
    },
    {
      "cell_type": "code",
      "source": [
        "%%writefile cuda/cpu.c\n",
        "    #include <iostream>\n",
        "    #include <algorithm>\n",
        "    using namespace std;\n",
        "\n",
        "    #define RADIUS 3\n",
        "\n",
        "    void stencil_1D(int *in, int *out, int N) {\n",
        "        for (int i=0; i<N; i++) {\n",
        "            out[i] = 0;\n",
        "            for (int offset=-RADIUS; offset<=RADIUS; offset++) {\n",
        "                out[i] += in[i+offset]\n",
        "            }\n",
        "        }\n",
        "    }\n",
        "\n",
        "\n",
        "    void fill_ints(int *x, int n) {\n",
        "        fill_n(x, n, 1);\n",
        "    }\n",
        "\n",
        "    int main(int argc, char *argv[]) {\n",
        "        int *in, *out;\n",
        "        int N;\n",
        "        int size = (N + 2*RADIUS) * sizeof(int);\n",
        "\n",
        "        if (argc < 2) {\n",
        "            printf(\"Error: you must indicate the length of the array\\n\");\n",
        "            return 1;\n",
        "        }\n",
        "\n",
        "        N = atoi(argv[1]);\n",
        "\n",
        "        in = (int*) malloc(size);\n",
        "        out = (int*) malloc(size);\n",
        "        fill_ints(in, N + 2*RADIUS);\n",
        "        fill_ints(out, N + 2*RADIUS);\n",
        "\n",
        "        stencil_1D(in + RADIUS, out + RADIUS, N);\n",
        "\n",
        "        printf(\"Output: \\n\");\n",
        "        for (int i=0; i<N+2*RADIUS; i++) {\n",
        "            printf(\"%d \", out[i]);\n",
        "        }\n",
        "        printf(\"\\n\");\n",
        "\n",
        "        free(in);\n",
        "        free(out);\n",
        "        return 0;\n",
        "    }"
      ],
      "metadata": {
        "id": "7GkJUe9Qn2pi"
      },
      "execution_count": null,
      "outputs": []
    }
  ]
}