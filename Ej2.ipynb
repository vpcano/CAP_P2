{
  "nbformat": 4,
  "nbformat_minor": 0,
  "metadata": {
    "colab": {
      "provenance": [],
      "gpuType": "T4",
      "include_colab_link": true
    },
    "kernelspec": {
      "name": "python3",
      "display_name": "Python 3"
    },
    "language_info": {
      "name": "python"
    },
    "accelerator": "GPU"
  },
  "cells": [
    {
      "cell_type": "markdown",
      "metadata": {
        "id": "view-in-github",
        "colab_type": "text"
      },
      "source": [
        "<a href=\"https://colab.research.google.com/github/vpcano/CAP_P2/blob/main/Ej2.ipynb\" target=\"_parent\"><img src=\"https://colab.research.google.com/assets/colab-badge.svg\" alt=\"Open In Colab\"/></a>"
      ]
    },
    {
      "cell_type": "code",
      "source": [
        "!mkdir -p src\n",
        "!rm -rf src/*\n",
        "!cd src && wget --no-check-certificate https://raw.githubusercontent.com/nothings/stb/master/stb_image.h\n",
        "!cd src && wget --no-check-certificate https://raw.githubusercontent.com/nothings/stb/master/stb_image_write.h"
      ],
      "metadata": {
        "id": "JXhyuu7McWlJ",
        "colab": {
          "base_uri": "https://localhost:8080/"
        },
        "outputId": "cec7bf51-1861-450b-86d4-6bfa997c2df2"
      },
      "execution_count": 38,
      "outputs": [
        {
          "output_type": "stream",
          "name": "stdout",
          "text": [
            "--2023-10-17 10:13:02--  https://raw.githubusercontent.com/nothings/stb/master/stb_image.h\n",
            "Resolving raw.githubusercontent.com (raw.githubusercontent.com)... 185.199.109.133, 185.199.108.133, 185.199.110.133, ...\n",
            "Connecting to raw.githubusercontent.com (raw.githubusercontent.com)|185.199.109.133|:443... connected.\n",
            "HTTP request sent, awaiting response... 200 OK\n",
            "Length: 284733 (278K) [text/plain]\n",
            "Saving to: ‘stb_image.h’\n",
            "\n",
            "\rstb_image.h           0%[                    ]       0  --.-KB/s               \rstb_image.h         100%[===================>] 278.06K  --.-KB/s    in 0.004s  \n",
            "\n",
            "2023-10-17 10:13:02 (63.5 MB/s) - ‘stb_image.h’ saved [284733/284733]\n",
            "\n",
            "--2023-10-17 10:13:03--  https://raw.githubusercontent.com/nothings/stb/master/stb_image_write.h\n",
            "Resolving raw.githubusercontent.com (raw.githubusercontent.com)... 185.199.108.133, 185.199.109.133, 185.199.110.133, ...\n",
            "Connecting to raw.githubusercontent.com (raw.githubusercontent.com)|185.199.108.133|:443... connected.\n",
            "HTTP request sent, awaiting response... 200 OK\n",
            "Length: 71221 (70K) [text/plain]\n",
            "Saving to: ‘stb_image_write.h’\n",
            "\n",
            "stb_image_write.h   100%[===================>]  69.55K  --.-KB/s    in 0.003s  \n",
            "\n",
            "2023-10-17 10:13:03 (24.0 MB/s) - ‘stb_image_write.h’ saved [71221/71221]\n",
            "\n"
          ]
        }
      ]
    },
    {
      "cell_type": "markdown",
      "source": [
        "## CPU Version (with intrinsics)"
      ],
      "metadata": {
        "id": "9vMUV7ux6let"
      }
    },
    {
      "cell_type": "code",
      "source": [
        "%%writefile src/greyScale_cpu.c\n",
        "    #include <stdio.h>\n",
        "    #include <stdint.h>\n",
        "    #include <math.h>\n",
        "    #include <sys/time.h>\n",
        "    #include <x86intrin.h>\n",
        "    #define STB_IMAGE_IMPLEMENTATION\n",
        "    #include \"stb_image.h\"\n",
        "    #define STB_IMAGE_WRITE_IMPLEMENTATION\n",
        "    #include \"stb_image_write.h\"\n",
        "\n",
        "\n",
        "\n",
        "    int main(int nargs, char **argv)\n",
        "    {\n",
        "        int width, height, nchannels;\n",
        "        struct timeval fin,ini;\n",
        "        const __m256 coefficients = {0.2989, 0.5870, 0.1140, 0.0, 0.2989, 0.5870, 0.1140, 0.0};\n",
        "\n",
        "        if (nargs < 2)\n",
        "        {\n",
        "            printf(\"Usage: %s <image1> [<image2> ...]\\n\", argv[0]);\n",
        "        }\n",
        "        // For each image\n",
        "        // Bucle 0\n",
        "        for (int file_i = 1; file_i < nargs; file_i++)\n",
        "        {\n",
        "            printf(\"[info] Processing %s\\n\", argv[file_i]);\n",
        "            /****** Reading file ******/\n",
        "            uint8_t *rgb_image = stbi_load(argv[file_i], &width, &height, &nchannels, 4);\n",
        "            if (!rgb_image)\n",
        "            {\n",
        "                perror(\"Image could not be opened\");\n",
        "            }\n",
        "\n",
        "            /****** Allocating memory ******/\n",
        "            // - RGB2Grey\n",
        "            uint8_t *grey_image = malloc(width * height);\n",
        "            if (!grey_image)\n",
        "            {\n",
        "                perror(\"Could not allocate memory\");\n",
        "            }\n",
        "\n",
        "            // - Filenames\n",
        "            for (int i = strlen(argv[file_i]) - 1; i >= 0; i--)\n",
        "            {\n",
        "                if (argv[file_i][i] == '.')\n",
        "                {\n",
        "                    argv[file_i][i] = 0;\n",
        "                    break;\n",
        "                }\n",
        "            }\n",
        "\n",
        "            char *grey_image_filename = 0;\n",
        "            asprintf(&grey_image_filename, \"%s_grey.jpg\", argv[file_i]);\n",
        "            if (!grey_image_filename)\n",
        "            {\n",
        "                perror(\"Could not allocate memory\");\n",
        "                exit(-1);\n",
        "            }\n",
        "\n",
        "            /****** Computations ******/\n",
        "            printf(\"[info] %s: width=%d, height=%d, nchannels=%d\\n\", argv[file_i], width, height, nchannels);\n",
        "\n",
        "            if (nchannels != 3 && nchannels != 4)\n",
        "            {\n",
        "                printf(\"[error] Num of channels=%d not supported. Only three (RGB), four (RGBA) are supported.\\n\", nchannels);\n",
        "                continue;\n",
        "            }\n",
        "\n",
        "            gettimeofday(&ini,NULL);\n",
        "            // RGB to grey scale\n",
        "            for (int j = 0; j < height; j++)\n",
        "            {\n",
        "                for (int i = 0; i < width; i+=4)\n",
        "                {\n",
        "                    // Obtain first two pixels (64 bits) and store them as four 8-bit packed\n",
        "                    // integers each in the lowest half of a 128 bit register\n",
        "                    __m128i lo_two_pixels = _mm_loadl_epi64((__m128i*)(rgb_image + (i + j*width) * 4));\n",
        "                    // Do the same with the next two pixels\n",
        "                    __m128i hi_two_pixels = _mm_loadl_epi64((__m128i*)(rgb_image + (i + 2 + j*width) * 4));\n",
        "\n",
        "                    // Extend each 8-bit packed integer from each pixel to a 32-bit packed\n",
        "                    // integer and store each pair of pixels in a 256 bit register\n",
        "                    __m256i extended_lo_two_pixels = _mm256_cvtepu8_epi32(lo_two_pixels);\n",
        "                    __m256i extended_hi_two_pixels = _mm256_cvtepu8_epi32(hi_two_pixels);\n",
        "\n",
        "                    // Convert each 32-bit packed integer to a 32-bit packed float\n",
        "                    __m256 float_lo_two_pixels = _mm256_cvtepi32_ps(extended_lo_two_pixels);\n",
        "                    __m256 float_hi_two_pixels = _mm256_cvtepi32_ps(extended_hi_two_pixels);\n",
        "\n",
        "                    // Multiply each 32-bit packed float with the coefficients (defined\n",
        "                    // at the begining)\n",
        "                    __m256 prod_lo_two_pixels = _mm256_mul_ps(float_lo_two_pixels, coefficients);\n",
        "                    __m256 prod_hi_two_pixels = _mm256_mul_ps(float_hi_two_pixels, coefficients);\n",
        "\n",
        "                    // Horizontally add the registers in order to achieve the sum of the\n",
        "                    // products for each pixel\n",
        "                    __m256 sum = _mm256_hadd_ps(prod_lo_two_pixels, prod_hi_two_pixels);\n",
        "                    sum = _mm256_hadd_ps(sum, sum);\n",
        "\n",
        "                    // Reorder the sum results to keep the original pixel order\n",
        "                    __m256 reordered_sum = _mm256_permutevar8x32_ps(sum, _mm256_set_epi32(7, 6, 3, 2, 5, 1, 4, 0));\n",
        "\n",
        "                    // Take the four first 32-bit packed floats and convert them to\n",
        "                    // 32-bit packed integers\n",
        "                    __m128i grey_pixels = _mm_cvtps_epi32(_mm256_extractf128_ps(reordered_sum, 0));\n",
        "\n",
        "                    // The following code is valid but requires too much instructions\n",
        "                    // grey_image[i + j*width] = (uint8_t) _mm_extract_epi8(grey_pixels, 0);\n",
        "                    // grey_image[i + j*width + 1] = (uint8_t) _mm_extract_epi8(grey_pixels, 4);\n",
        "                    // grey_image[i + j*width + 2] = (uint8_t) _mm_extract_epi8(grey_pixels, 8);\n",
        "                    // grey_image[i + j*width + 3] = (uint8_t) _mm_extract_epi8(grey_pixels, 12);\n",
        "\n",
        "                    // This aproach results in less instructions: each 32-bit integer\n",
        "                    // is packed into a 16-bit integer and stored next to each other\n",
        "                    // at the begining of the register. Then the same is done but from\n",
        "                    // a 16-bit integer to a 8-bit integer, so the result has the four\n",
        "                    // pixels stored on the first 32 bit of the register. Finally, only\n",
        "                    // one assignment needs to be done. The grey_image array is casted\n",
        "                    // to a uint32_t pointer and its value at the corresponding index\n",
        "                    // is assigned to the first four pixels\n",
        "                    grey_pixels = _mm_packus_epi32(grey_pixels, grey_pixels);\n",
        "                    grey_pixels = _mm_packus_epi16(grey_pixels, grey_pixels);\n",
        "                    *((uint32_t*)(grey_image + i + j*width)) = _mm_extract_epi32(grey_pixels, 0);\n",
        "                }\n",
        "            }\n",
        "\n",
        "            stbi_write_jpg(grey_image_filename, width, height, 1, grey_image, 10);\n",
        "            free(rgb_image);\n",
        "\n",
        "            gettimeofday(&fin,NULL);\n",
        "\n",
        "            printf(\"Tiempo: %f\\n\", ((fin.tv_sec*1000000+fin.tv_usec)-(ini.tv_sec*1000000+ini.tv_usec))*1.0/1000000.0);\n",
        "            free(grey_image_filename);\n",
        "        }\n",
        "    }"
      ],
      "metadata": {
        "colab": {
          "base_uri": "https://localhost:8080/"
        },
        "id": "7xdP89oZ5_XZ",
        "outputId": "5d21483a-5101-43f0-befd-051f711e6c28"
      },
      "execution_count": 39,
      "outputs": [
        {
          "output_type": "stream",
          "name": "stdout",
          "text": [
            "Writing src/greyScale_cpu.c\n"
          ]
        }
      ]
    },
    {
      "cell_type": "code",
      "source": [
        "!gcc -O3 -march=native -fwhole-program -Wall -D_GNU_SOURCE -std=gnu99 -o src/greyScale_cpu src/greyScale_cpu.c -lm\n",
        "!./src/greyScale_cpu images/FHD.jpg\n"
      ],
      "metadata": {
        "colab": {
          "base_uri": "https://localhost:8080/"
        },
        "id": "IYeCOLsE69J_",
        "outputId": "e63e8ccc-b316-46cd-d97e-100e9bcf7b52"
      },
      "execution_count": 40,
      "outputs": [
        {
          "output_type": "stream",
          "name": "stdout",
          "text": [
            "\u001b[01m\u001b[Ksrc/greyScale_cpu.c:\u001b[m\u001b[K In function ‘\u001b[01m\u001b[Kmain\u001b[m\u001b[K’:\n",
            "\u001b[01m\u001b[Ksrc/greyScale_cpu.c:54:13:\u001b[m\u001b[K \u001b[01;35m\u001b[Kwarning: \u001b[m\u001b[Kignoring return value of ‘\u001b[01m\u001b[Kasprintf\u001b[m\u001b[K’ declared with attribute ‘\u001b[01m\u001b[Kwarn_unused_result\u001b[m\u001b[K’ [\u001b[01;35m\u001b[K\u001b]8;;https://gcc.gnu.org/onlinedocs/gcc/Warning-Options.html#index-Wunused-result\u0007-Wunused-result\u001b]8;;\u0007\u001b[m\u001b[K]\n",
            "   54 |             \u001b[01;35m\u001b[Kasprintf(&grey_image_filename, \"%s_grey.jpg\", argv[file_i])\u001b[m\u001b[K;\n",
            "      |             \u001b[01;35m\u001b[K^~~~~~~~~~~~~~~~~~~~~~~~~~~~~~~~~~~~~~~~~~~~~~~~~~~~~~~~~~~\u001b[m\u001b[K\n",
            "[info] Processing images/FHD.jpg\n",
            "[info] images/FHD: width=1920, height=1080, nchannels=3\n",
            "Tiempo: 0.040569\n"
          ]
        }
      ]
    },
    {
      "cell_type": "markdown",
      "source": [
        "## GPU Version"
      ],
      "metadata": {
        "id": "VsISqQE98jjv"
      }
    },
    {
      "cell_type": "code",
      "execution_count": 57,
      "metadata": {
        "id": "N9zlUdIhXbmC",
        "colab": {
          "base_uri": "https://localhost:8080/"
        },
        "outputId": "478270a8-bc1c-4bb4-fc64-2a8564cffada"
      },
      "outputs": [
        {
          "output_type": "stream",
          "name": "stdout",
          "text": [
            "Overwriting src/greyScale_gpu.cu\n"
          ]
        }
      ],
      "source": [
        "%%writefile src/greyScale_gpu.cu\n",
        "    #include <iostream>\n",
        "    #include <stdint.h>\n",
        "    #include <math.h>\n",
        "    #include <sys/time.h>\n",
        "    #define STB_IMAGE_IMPLEMENTATION\n",
        "    #include \"stb_image.h\"\n",
        "    #define STB_IMAGE_WRITE_IMPLEMENTATION\n",
        "    #include \"stb_image_write.h\"\n",
        "    #include \"cuda.h\"\n",
        "    #include \"cuda_runtime.h\"\n",
        "\n",
        "    #define BLOCK_SIZE_SIDE 16\n",
        "\n",
        "    __global__ void rgbToGrayscale(uint8_t *rgb_image, uint8_t *grey_image, int width, int height, int nchannels) {\n",
        "        int x = blockIdx.x * blockDim.x + threadIdx.x;\n",
        "        int y = blockIdx.y * blockDim.y + threadIdx.y;\n",
        "\n",
        "        if (x < width && y < height) {\n",
        "            int grey_idx = y * width + x;\n",
        "            int rgb_idx = grey_idx * nchannels;\n",
        "            unsigned char *offset = rgb_image + rgb_idx;\n",
        "\n",
        "            grey_image[grey_idx] = (int)(0.2989*offset[0] + 0.5870*offset[1] + 0.1140*offset[2]);\n",
        "        }\n",
        "    }\n",
        "\n",
        "    int main(int argc, char *argv[]) {\n",
        "        int width, height, nchannels;\n",
        "        struct timeval fin,ini;\n",
        "\n",
        "        if (argc < 2) {\n",
        "            printf(\"Usage: %s <image1> [<image2> ...]\\n\", argv[0]);\n",
        "            return -1;\n",
        "        }\n",
        "\n",
        "        // For each image\n",
        "        for (int file_i = 1; file_i < argc; file_i++) {\n",
        "            printf(\"[info] Processing %s\\n\", argv[file_i]);\n",
        "\n",
        "            // Reading file\n",
        "            uint8_t *rgb_image = stbi_load(argv[file_i], &width, &height, &nchannels, 4);\n",
        "            if (!rgb_image) {\n",
        "                perror(\"Image could not be opened\");\n",
        "            }\n",
        "\n",
        "            // Allocating memory\n",
        "            uint8_t *grey_image = (uint8_t*) malloc(width * height);\n",
        "            if (!grey_image) {\n",
        "                perror(\"Could not allocate memory\");\n",
        "                stbi_image_free(rgb_image);\n",
        "            }\n",
        "\n",
        "            // - Filenames\n",
        "            for (int i = strlen(argv[file_i]) - 1; i >= 0; i--)\n",
        "            {\n",
        "                if (argv[file_i][i] == '.')\n",
        "                {\n",
        "                    argv[file_i][i] = 0;\n",
        "                    break;\n",
        "                }\n",
        "            }\n",
        "\n",
        "            char *grey_image_filename = 0;\n",
        "            asprintf(&grey_image_filename, \"%s_grey.jpg\", argv[file_i]);\n",
        "            if (!grey_image_filename) {\n",
        "                perror(\"Could not allocate memory\");\n",
        "                stbi_image_free(rgb_image);\n",
        "                exit(-1);\n",
        "            }\n",
        "\n",
        "            /****** Computations ******/\n",
        "            printf(\"[info] %s: width=%d, height=%d, nchannels=%d\\n\", argv[file_i], width, height, nchannels);\n",
        "\n",
        "            if (nchannels != 3 && nchannels != 4)\n",
        "            {\n",
        "                printf(\"[error] Num of channels=%d not supported. Only three (RGB), four (RGBA) are supported.\\n\", nchannels);\n",
        "                continue;\n",
        "            }\n",
        "\n",
        "            // Allocate memory on GPU\n",
        "            uint8_t *d_rgb_image;\n",
        "            uint8_t *d_grey_image;\n",
        "            cudaMalloc((void**)&d_rgb_image, width * height * 4);\n",
        "            cudaMalloc((void**)&d_grey_image, width * height);\n",
        "\n",
        "            gettimeofday(&ini,NULL);\n",
        "\n",
        "            // Copy RGB image to GPU\n",
        "            cudaMemcpy(d_rgb_image, rgb_image, width * height * 4, cudaMemcpyHostToDevice);\n",
        "\n",
        "            // Calculate block and grid dimensions\n",
        "            dim3 blockSize(BLOCK_SIZE_SIDE, BLOCK_SIZE_SIDE);\n",
        "            dim3 gridSize((width + blockSize.x - 1) / blockSize.x, (height + blockSize.y - 1) / blockSize.y);\n",
        "\n",
        "            // Launch the kernel\n",
        "            rgbToGrayscale<<<gridSize, blockSize>>>(d_rgb_image, d_grey_image, width, height, 4);\n",
        "\n",
        "            // Copy the result back to the host\n",
        "            cudaMemcpy(grey_image, d_grey_image, width * height, cudaMemcpyDeviceToHost);\n",
        "\n",
        "            // Save the grayscale image\n",
        "            stbi_write_jpg(grey_image_filename, width, height, 1, grey_image, 10);\n",
        "\n",
        "            gettimeofday(&fin,NULL);\n",
        "            printf(\"Tiempo: %f\\n\", ((fin.tv_sec*1000000+fin.tv_usec)-(ini.tv_sec*1000000+ini.tv_usec))*1.0/1000000.0);\n",
        "\n",
        "            // Free allocated memory\n",
        "            cudaFree(d_rgb_image);\n",
        "            cudaFree(d_grey_image);\n",
        "            stbi_image_free(rgb_image);\n",
        "            free(grey_image_filename);\n",
        "            free(grey_image);\n",
        "\n",
        "        }\n",
        "\n",
        "        return 0;\n",
        "\n",
        "    }\n"
      ]
    },
    {
      "cell_type": "code",
      "source": [
        "!nvcc src/greyScale_gpu.cu -o src/greyScale_gpu -lm\n",
        "!./src/greyScale_gpu images/HD.jpg"
      ],
      "metadata": {
        "colab": {
          "base_uri": "https://localhost:8080/"
        },
        "id": "N0Luh_Iwb_83",
        "outputId": "2e3092cc-2b79-4fb2-8053-8c17fb3fd22f"
      },
      "execution_count": 58,
      "outputs": [
        {
          "output_type": "stream",
          "name": "stdout",
          "text": [
            "\u001b[01m\u001b[0m\u001b[01msrc/stb_image.h(4262)\u001b[0m: \u001b[01;35mwarning\u001b[0m #550-D: variable \u001b[01m\"old_limit\"\u001b[0m was set but never used\n",
            "\n",
            "\u001b[01m\u001b[0m\u001b[01msrc/stb_image.h(5184)\u001b[0m: \u001b[01;35mwarning\u001b[0m #550-D: variable \u001b[01m\"idata_limit_old\"\u001b[0m was set but never used\n",
            "\n",
            "\u001b[01m\u001b[0m\u001b[01msrc/stb_image.h(6971)\u001b[0m: \u001b[01;35mwarning\u001b[0m #550-D: variable \u001b[01m\"out_size\"\u001b[0m was set but never used\n",
            "\n",
            "\u001b[01m\u001b[0m\u001b[01msrc/stb_image.h(6972)\u001b[0m: \u001b[01;35mwarning\u001b[0m #550-D: variable \u001b[01m\"delays_size\"\u001b[0m was set but never used\n",
            "\n",
            "[info] Processing images/HD.jpg\n",
            "[info] images/HD: width=1280, height=720, nchannels=3\n",
            "Tiempo: 0.040417\n"
          ]
        }
      ]
    },
    {
      "cell_type": "code",
      "source": [
        "%%writefile createTable.sh\n",
        "    #!/bin/sh\n",
        "\n",
        "    algorithms=(\"greyScale_cpu\" \"greyScale_gpu\")\n",
        "    resolutions=(\"SD\" \"HD\" \"FHD\" \"4k\" \"8k\")\n",
        "\n",
        "    # Print the table headers\n",
        "    printf \"%-21s\" \"\" > table.txt\n",
        "    for res in \"${resolutions[@]}\"; do\n",
        "    printf \"%-10s\" \"$res\" >> table.txt\n",
        "    done\n",
        "    printf \"\\n\" >> table.txt\n",
        "\n",
        "    for alg in \"${algorithms[@]}\"; do\n",
        "\n",
        "        # Print row header\n",
        "        printf \"%-21s\" \"$alg\" >> table.txt\n",
        "\n",
        "        # Execute the algorithm for each resolution\n",
        "        for res in \"${resolutions[@]}\"; do\n",
        "            img=\"images/$res.jpg\"\n",
        "            echo \"Processing $img file with $alg algorithm...\"\n",
        "            # Extract the processing time from the programs's output\n",
        "            processing_time=$(./src/\"$alg\" $img | tail -n 1 | cut -d' ' -f2)\n",
        "            echo \"$img_name processing time: $processing_time\"\n",
        "            # Calculate the number of FPS, this is, the inverse of the processing time\n",
        "            printf \"%-10s\" \"$processing_time\" >> table.txt\n",
        "        done\n",
        "\n",
        "        printf \"\\n\" >> table.txt\n",
        "\n",
        "    done"
      ],
      "metadata": {
        "colab": {
          "base_uri": "https://localhost:8080/"
        },
        "id": "ecJI4dCDGwiJ",
        "outputId": "5df2915b-9421-4dd8-c96d-f7e2cbee2a4a"
      },
      "execution_count": 47,
      "outputs": [
        {
          "output_type": "stream",
          "name": "stdout",
          "text": [
            "Overwriting createTable.sh\n"
          ]
        }
      ]
    },
    {
      "cell_type": "code",
      "source": [
        "!chmod +x createTable.sh\n",
        "!./createTable.sh"
      ],
      "metadata": {
        "colab": {
          "base_uri": "https://localhost:8080/"
        },
        "id": "oaewZzzgG-EG",
        "outputId": "61769be3-3b1e-4a1f-83ce-ea432ea51c5d"
      },
      "execution_count": 51,
      "outputs": [
        {
          "output_type": "stream",
          "name": "stdout",
          "text": [
            "Processing images/SD.jpg file with greyScale_cpu algorithm...\n",
            " processing time: 0.003263\n",
            "Processing images/HD.jpg file with greyScale_cpu algorithm...\n",
            " processing time: 0.011346\n",
            "Processing images/FHD.jpg file with greyScale_cpu algorithm...\n",
            " processing time: 0.024920\n",
            "Processing images/4k.jpg file with greyScale_cpu algorithm...\n",
            " processing time: 0.091866\n",
            "Processing images/8k.jpg file with greyScale_cpu algorithm...\n",
            " processing time: 0.389660\n",
            "Processing images/SD.jpg file with greyScale_gpu algorithm...\n",
            " processing time: 0.011104\n",
            "Processing images/HD.jpg file with greyScale_gpu algorithm...\n",
            " processing time: 0.044729\n",
            "Processing images/FHD.jpg file with greyScale_gpu algorithm...\n",
            " processing time: 0.092928\n",
            "Processing images/4k.jpg file with greyScale_gpu algorithm...\n",
            " processing time: 0.342511\n",
            "Processing images/8k.jpg file with greyScale_gpu algorithm...\n",
            " processing time: 1.558283\n"
          ]
        }
      ]
    }
  ]
}